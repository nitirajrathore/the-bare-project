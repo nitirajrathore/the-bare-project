{
 "cells": [
  {
   "cell_type": "code",
   "execution_count": 8,
   "id": "a02813af-2685-4678-81c1-3de5c7c5fa80",
   "metadata": {},
   "outputs": [
    {
     "data": {
      "text/plain": [
       "'/Users/nitirajrathore/mywork/the-bare-project/pandas/pluralsight-course/up-running-pandas/self'"
      ]
     },
     "execution_count": 8,
     "metadata": {},
     "output_type": "execute_result"
    }
   ],
   "source": [
    "import os\n",
    "os.getcwd()"
   ]
  },
  {
   "cell_type": "code",
   "execution_count": 11,
   "id": "1c91b098-6de2-4300-a1c9-418e02e35790",
   "metadata": {},
   "outputs": [
    {
     "data": {
      "text/plain": [
       "[{'Column 1': 1, 'Column 2': 2},\n",
       " {'Column 1': 3, 'Column 2': 4},\n",
       " {'Column 1': 5, 'Column 2': 6}]"
      ]
     },
     "execution_count": 11,
     "metadata": {},
     "output_type": "execute_result"
    }
   ],
   "source": [
    "import json5 as json\n",
    "\n",
    "f = open (\"../03/demos/example-1.json\")\n",
    "\n",
    "data = json.load(f)\n",
    "\n",
    "data"
   ]
  },
  {
   "cell_type": "code",
   "execution_count": 13,
   "id": "ee71cdf6-1010-42e2-abb3-239730cd1397",
   "metadata": {},
   "outputs": [
    {
     "data": {
      "text/plain": [
       "6"
      ]
     },
     "execution_count": 13,
     "metadata": {},
     "output_type": "execute_result"
    }
   ],
   "source": [
    "data[2][\"Column 2\"]"
   ]
  },
  {
   "cell_type": "code",
   "execution_count": 14,
   "id": "44f46ea7-d71b-4a31-8931-325b644dcbb4",
   "metadata": {},
   "outputs": [],
   "source": [
    "import csv"
   ]
  },
  {
   "cell_type": "code",
   "execution_count": 16,
   "id": "e6b4745b-fc86-4ea4-b1b9-919e64971d97",
   "metadata": {},
   "outputs": [
    {
     "name": "stdout",
     "output_type": "stream",
     "text": [
      "{'Branch': 'Branch A', 'Date': 'January 1', 'Amount': '500.00'}\n",
      "{'Branch': 'Branch B', 'Date': 'January 2', 'Amount': '250.00'}\n",
      "{'Branch': 'Branch A', 'Date': 'January 3', 'Amount': '300.00'}\n"
     ]
    }
   ],
   "source": [
    "with open (\"../03/demos/example-1.csv\", mode=\"r\") as csv_file:\n",
    "    csv_reader = csv.DictReader(csv_file)\n",
    "\n",
    "    for row in csv_reader:\n",
    "        print(row)"
   ]
  },
  {
   "cell_type": "code",
   "execution_count": null,
   "id": "d39f1fc6-f177-40f3-890c-0af3110f358d",
   "metadata": {},
   "outputs": [],
   "source": []
  }
 ],
 "metadata": {
  "kernelspec": {
   "display_name": "Python 3 (ipykernel)",
   "language": "python",
   "name": "python3"
  },
  "language_info": {
   "codemirror_mode": {
    "name": "ipython",
    "version": 3
   },
   "file_extension": ".py",
   "mimetype": "text/x-python",
   "name": "python",
   "nbconvert_exporter": "python",
   "pygments_lexer": "ipython3",
   "version": "3.12.1"
  }
 },
 "nbformat": 4,
 "nbformat_minor": 5
}
