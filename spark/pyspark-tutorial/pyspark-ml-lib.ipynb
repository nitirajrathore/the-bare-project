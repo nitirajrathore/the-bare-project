{
 "cells": [
  {
   "cell_type": "code",
   "execution_count": 9,
   "id": "7dbde240-46a8-4e38-874f-97d79a960d78",
   "metadata": {},
   "outputs": [
    {
     "name": "stdout",
     "output_type": "stream",
     "text": [
      "Requirement already satisfied: pyspark in ./py3.9/lib/python3.9/site-packages (3.5.1)\n",
      "Requirement already satisfied: py4j==0.10.9.7 in ./py3.9/lib/python3.9/site-packages (from pyspark) (0.10.9.7)\n",
      "Collecting numpy\n",
      "  Using cached numpy-1.26.4-cp39-cp39-macosx_11_0_arm64.whl.metadata (61 kB)\n",
      "Using cached numpy-1.26.4-cp39-cp39-macosx_11_0_arm64.whl (14.0 MB)\n",
      "Installing collected packages: numpy\n",
      "Successfully installed numpy-1.26.4\n",
      "Requirement already satisfied: setuptools in ./py3.9/lib/python3.9/site-packages (69.1.1)\n"
     ]
    }
   ],
   "source": [
    "!pip install pyspark\n",
    "!pip install numpy\n",
    "!pip install setuptools"
   ]
  },
  {
   "cell_type": "code",
   "execution_count": 10,
   "id": "3bc5cf2f-2ca3-4082-b089-8f69038e9076",
   "metadata": {},
   "outputs": [],
   "source": [
    "import pyspark"
   ]
  },
  {
   "cell_type": "code",
   "execution_count": 11,
   "id": "0acf0bd0-1ba9-430b-9c78-70d4e06cd8c7",
   "metadata": {},
   "outputs": [],
   "source": [
    "from pyspark.sql import SparkSession"
   ]
  },
  {
   "cell_type": "code",
   "execution_count": 12,
   "id": "ea30f18c-8633-4d72-9966-ad066c6db01c",
   "metadata": {},
   "outputs": [],
   "source": [
    "spark = SparkSession.builder.appName(\"MLLIB\").getOrCreate()"
   ]
  },
  {
   "cell_type": "code",
   "execution_count": 13,
   "id": "dc289fa0-6ec1-4617-b282-e9471e7988a7",
   "metadata": {},
   "outputs": [],
   "source": [
    "df = spark.read.csv('test1.csv', header=True, inferSchema=True)"
   ]
  },
  {
   "cell_type": "code",
   "execution_count": 14,
   "id": "5080c1c4-add8-4ee2-9adb-c6fd0ec1c162",
   "metadata": {},
   "outputs": [
    {
     "name": "stdout",
     "output_type": "stream",
     "text": [
      "+---------+---+----------+------+\n",
      "|     Name|age|Experience|Salary|\n",
      "+---------+---+----------+------+\n",
      "|    Krish| 31|        10| 30000|\n",
      "|Sudhanshu| 30|         8| 25000|\n",
      "|    Sunny| 29|         4| 20000|\n",
      "|     Paul| 24|         3| 20000|\n",
      "|   Harsha| 21|         1| 15000|\n",
      "|  Shubham| 23|         2| 18000|\n",
      "+---------+---+----------+------+\n",
      "\n"
     ]
    }
   ],
   "source": [
    "df.show()"
   ]
  },
  {
   "cell_type": "code",
   "execution_count": 15,
   "id": "8a96b0fa-d02c-4a5b-afe7-b5b183b6922f",
   "metadata": {},
   "outputs": [
    {
     "name": "stdout",
     "output_type": "stream",
     "text": [
      "root\n",
      " |-- Name: string (nullable = true)\n",
      " |-- age: integer (nullable = true)\n",
      " |-- Experience: integer (nullable = true)\n",
      " |-- Salary: integer (nullable = true)\n",
      "\n"
     ]
    }
   ],
   "source": [
    "df.printSchema()"
   ]
  },
  {
   "cell_type": "code",
   "execution_count": 19,
   "id": "3a56998d-0ccc-434c-8b37-d340f9baaa56",
   "metadata": {},
   "outputs": [],
   "source": [
    "# Predicting salary\n",
    "#  independent feature : [Age, Experience]\n",
    "from pyspark.ml.feature import VectorAssembler"
   ]
  },
  {
   "cell_type": "code",
   "execution_count": 22,
   "id": "90b7e54f-3d8b-4b34-9bf8-31ea0412f216",
   "metadata": {},
   "outputs": [],
   "source": [
    "featureAssembler=VectorAssembler(inputCols=['age','Experience'],outputCol='indep_features')"
   ]
  },
  {
   "cell_type": "code",
   "execution_count": 23,
   "id": "04cacb2b-b347-448f-872d-39ef40420798",
   "metadata": {},
   "outputs": [],
   "source": [
    "training = df\n",
    "output=featureAssembler.transform(training)"
   ]
  },
  {
   "cell_type": "code",
   "execution_count": 24,
   "id": "5d7f12ad-95b8-4a5a-ac1c-6f8019116812",
   "metadata": {},
   "outputs": [
    {
     "name": "stdout",
     "output_type": "stream",
     "text": [
      "+---------+---+----------+------+--------------+\n",
      "|     Name|age|Experience|Salary|indep_features|\n",
      "+---------+---+----------+------+--------------+\n",
      "|    Krish| 31|        10| 30000|   [31.0,10.0]|\n",
      "|Sudhanshu| 30|         8| 25000|    [30.0,8.0]|\n",
      "|    Sunny| 29|         4| 20000|    [29.0,4.0]|\n",
      "|     Paul| 24|         3| 20000|    [24.0,3.0]|\n",
      "|   Harsha| 21|         1| 15000|    [21.0,1.0]|\n",
      "|  Shubham| 23|         2| 18000|    [23.0,2.0]|\n",
      "+---------+---+----------+------+--------------+\n",
      "\n"
     ]
    }
   ],
   "source": [
    "output.show()"
   ]
  },
  {
   "cell_type": "code",
   "execution_count": 26,
   "id": "6fac5af8-e40d-4b1b-9419-4b46468582ec",
   "metadata": {},
   "outputs": [
    {
     "data": {
      "text/plain": [
       "['Name', 'age', 'Experience', 'Salary', 'indep_features']"
      ]
     },
     "execution_count": 26,
     "metadata": {},
     "output_type": "execute_result"
    }
   ],
   "source": [
    "output.columns"
   ]
  },
  {
   "cell_type": "code",
   "execution_count": 27,
   "id": "1facda34-8039-445c-acb6-0a4332865c7f",
   "metadata": {},
   "outputs": [],
   "source": [
    "finalized_data = output.select('indep_features','Salary')"
   ]
  },
  {
   "cell_type": "code",
   "execution_count": 28,
   "id": "93da8fce-4b02-45c6-b8a1-225623b06f3c",
   "metadata": {},
   "outputs": [
    {
     "name": "stdout",
     "output_type": "stream",
     "text": [
      "+--------------+------+\n",
      "|indep_features|Salary|\n",
      "+--------------+------+\n",
      "|   [31.0,10.0]| 30000|\n",
      "|    [30.0,8.0]| 25000|\n",
      "|    [29.0,4.0]| 20000|\n",
      "|    [24.0,3.0]| 20000|\n",
      "|    [21.0,1.0]| 15000|\n",
      "|    [23.0,2.0]| 18000|\n",
      "+--------------+------+\n",
      "\n"
     ]
    }
   ],
   "source": [
    "finalized_data.show()"
   ]
  },
  {
   "cell_type": "code",
   "execution_count": 29,
   "id": "85214f22-77f1-4dcc-ac10-1f971052c0a1",
   "metadata": {},
   "outputs": [
    {
     "name": "stderr",
     "output_type": "stream",
     "text": [
      "24/04/03 13:06:45 WARN Instrumentation: [c4d3044a] regParam is zero, which might cause numerical instability and overfitting.\n",
      "24/04/03 13:06:45 WARN InstanceBuilder: Failed to load implementation from:dev.ludovic.netlib.blas.JNIBLAS\n",
      "24/04/03 13:06:45 WARN InstanceBuilder: Failed to load implementation from:dev.ludovic.netlib.blas.VectorBLAS\n",
      "24/04/03 13:06:45 WARN InstanceBuilder: Failed to load implementation from:dev.ludovic.netlib.lapack.JNILAPACK\n"
     ]
    }
   ],
   "source": [
    "from pyspark.ml.regression import LinearRegression\n",
    "train_data,test_data = finalized_data.randomSplit([0.75,0.25])\n",
    "regression = LinearRegression(featuresCol='indep_features', labelCol='Salary')\n",
    "regression = regression.fit(train_data)"
   ]
  },
  {
   "cell_type": "code",
   "execution_count": 30,
   "id": "8670e628-fd08-4ff1-92d0-87bfaa8c070c",
   "metadata": {},
   "outputs": [
    {
     "data": {
      "text/plain": [
       "DenseVector([-64.8464, 1584.7554])"
      ]
     },
     "execution_count": 30,
     "metadata": {},
     "output_type": "execute_result"
    }
   ],
   "source": [
    "regression.coefficients"
   ]
  },
  {
   "cell_type": "code",
   "execution_count": 31,
   "id": "5b6633f6-9bbe-4338-b288-aea9e7114918",
   "metadata": {},
   "outputs": [
    {
     "data": {
      "text/plain": [
       "15414.10693970376"
      ]
     },
     "execution_count": 31,
     "metadata": {},
     "output_type": "execute_result"
    }
   ],
   "source": [
    "regression.intercept"
   ]
  },
  {
   "cell_type": "code",
   "execution_count": 32,
   "id": "2c6da602-6361-49ef-b418-3aaa490e748a",
   "metadata": {},
   "outputs": [],
   "source": [
    "pred_results = regression.evaluate(test_data)"
   ]
  },
  {
   "cell_type": "code",
   "execution_count": 33,
   "id": "3090b50d-a285-45f3-89bc-7f3ee03e9667",
   "metadata": {},
   "outputs": [
    {
     "name": "stdout",
     "output_type": "stream",
     "text": [
      "+--------------+------+-----------------+\n",
      "|indep_features|Salary|       prediction|\n",
      "+--------------+------+-----------------+\n",
      "|    [24.0,3.0]| 20000|18612.05915813422|\n",
      "+--------------+------+-----------------+\n",
      "\n"
     ]
    }
   ],
   "source": [
    "pred_results.predictions.show()"
   ]
  },
  {
   "cell_type": "code",
   "execution_count": null,
   "id": "1836d7d8-4d9d-4739-b512-65316238cd17",
   "metadata": {},
   "outputs": [],
   "source": []
  }
 ],
 "metadata": {
  "kernelspec": {
   "display_name": "Python 3 (ipykernel)",
   "language": "python",
   "name": "python3"
  },
  "language_info": {
   "codemirror_mode": {
    "name": "ipython",
    "version": 3
   },
   "file_extension": ".py",
   "mimetype": "text/x-python",
   "name": "python",
   "nbconvert_exporter": "python",
   "pygments_lexer": "ipython3",
   "version": "3.9.18"
  }
 },
 "nbformat": 4,
 "nbformat_minor": 5
}
