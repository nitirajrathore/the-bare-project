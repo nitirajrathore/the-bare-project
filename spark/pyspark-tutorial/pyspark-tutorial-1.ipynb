{
 "cells": [
  {
   "cell_type": "code",
   "execution_count": 1,
   "id": "74f4aa51-806d-4745-b646-4b79387edb75",
   "metadata": {},
   "outputs": [
    {
     "name": "stdout",
     "output_type": "stream",
     "text": [
      "Requirement already satisfied: pyspark in /Users/nitirajrathore/.pyenv/versions/3.12.1/lib/python3.12/site-packages (3.5.1)\n",
      "Requirement already satisfied: py4j==0.10.9.7 in /Users/nitirajrathore/.pyenv/versions/3.12.1/lib/python3.12/site-packages (from pyspark) (0.10.9.7)\n"
     ]
    }
   ],
   "source": [
    "!pip install pyspark"
   ]
  },
  {
   "cell_type": "code",
   "execution_count": 2,
   "id": "5a314f12-28ce-4fac-87e0-5890dbf681a9",
   "metadata": {},
   "outputs": [],
   "source": [
    "import pyspark"
   ]
  },
  {
   "cell_type": "code",
   "execution_count": 3,
   "id": "fbabcfbd-a88a-401d-84c0-b2aeaabef729",
   "metadata": {},
   "outputs": [
    {
     "data": {
      "text/html": [
       "<div>\n",
       "<style scoped>\n",
       "    .dataframe tbody tr th:only-of-type {\n",
       "        vertical-align: middle;\n",
       "    }\n",
       "\n",
       "    .dataframe tbody tr th {\n",
       "        vertical-align: top;\n",
       "    }\n",
       "\n",
       "    .dataframe thead th {\n",
       "        text-align: right;\n",
       "    }\n",
       "</style>\n",
       "<table border=\"1\" class=\"dataframe\">\n",
       "  <thead>\n",
       "    <tr style=\"text-align: right;\">\n",
       "      <th></th>\n",
       "      <th>name</th>\n",
       "      <th>age</th>\n",
       "    </tr>\n",
       "  </thead>\n",
       "  <tbody>\n",
       "    <tr>\n",
       "      <th>0</th>\n",
       "      <td>A</td>\n",
       "      <td>30</td>\n",
       "    </tr>\n",
       "    <tr>\n",
       "      <th>1</th>\n",
       "      <td>B</td>\n",
       "      <td>20</td>\n",
       "    </tr>\n",
       "    <tr>\n",
       "      <th>2</th>\n",
       "      <td>C</td>\n",
       "      <td>40</td>\n",
       "    </tr>\n",
       "  </tbody>\n",
       "</table>\n",
       "</div>"
      ],
      "text/plain": [
       "  name  age\n",
       "0    A   30\n",
       "1    B   20\n",
       "2    C   40"
      ]
     },
     "execution_count": 3,
     "metadata": {},
     "output_type": "execute_result"
    }
   ],
   "source": [
    "import pandas as pd\n",
    "pd.read_csv('data.txt')"
   ]
  },
  {
   "cell_type": "code",
   "execution_count": 4,
   "id": "fb4a7d87-71ab-4cc0-bb16-c37088847b26",
   "metadata": {},
   "outputs": [],
   "source": [
    "from pyspark.sql import SparkSession"
   ]
  },
  {
   "cell_type": "code",
   "execution_count": 5,
   "id": "403c6615-a215-45a8-9487-46a98f135132",
   "metadata": {},
   "outputs": [
    {
     "name": "stderr",
     "output_type": "stream",
     "text": [
      "Setting default log level to \"WARN\".\n",
      "To adjust logging level use sc.setLogLevel(newLevel). For SparkR, use setLogLevel(newLevel).\n",
      "24/04/02 19:32:47 WARN NativeCodeLoader: Unable to load native-hadoop library for your platform... using builtin-java classes where applicable\n"
     ]
    }
   ],
   "source": [
    "spark = SparkSession.builder.appName(\"Practice\").getOrCreate()"
   ]
  },
  {
   "cell_type": "code",
   "execution_count": 6,
   "id": "c31dbaa4-4323-4bcb-85ce-bafbf3951850",
   "metadata": {},
   "outputs": [
    {
     "data": {
      "text/html": [
       "\n",
       "            <div>\n",
       "                <p><b>SparkSession - in-memory</b></p>\n",
       "                \n",
       "        <div>\n",
       "            <p><b>SparkContext</b></p>\n",
       "\n",
       "            <p><a href=\"http://192.168.1.2:4040\">Spark UI</a></p>\n",
       "\n",
       "            <dl>\n",
       "              <dt>Version</dt>\n",
       "                <dd><code>v3.5.1</code></dd>\n",
       "              <dt>Master</dt>\n",
       "                <dd><code>local[*]</code></dd>\n",
       "              <dt>AppName</dt>\n",
       "                <dd><code>Practice</code></dd>\n",
       "            </dl>\n",
       "        </div>\n",
       "        \n",
       "            </div>\n",
       "        "
      ],
      "text/plain": [
       "<pyspark.sql.session.SparkSession at 0x10b73aae0>"
      ]
     },
     "execution_count": 6,
     "metadata": {},
     "output_type": "execute_result"
    }
   ],
   "source": [
    "spark"
   ]
  },
  {
   "cell_type": "code",
   "execution_count": 7,
   "id": "86ffa2ac-b9d6-4823-b76b-2abca43cd499",
   "metadata": {},
   "outputs": [],
   "source": [
    "df_pyspark = spark.read.csv('data.txt')"
   ]
  },
  {
   "cell_type": "code",
   "execution_count": 8,
   "id": "fe8bf275-4a9e-4dd1-bdf3-8817a8780ff6",
   "metadata": {},
   "outputs": [
    {
     "data": {
      "text/plain": [
       "DataFrame[_c0: string, _c1: string]"
      ]
     },
     "execution_count": 8,
     "metadata": {},
     "output_type": "execute_result"
    }
   ],
   "source": [
    "df_pyspark"
   ]
  },
  {
   "cell_type": "code",
   "execution_count": 9,
   "id": "ae3ca3f0-d4fb-45ee-a6f2-e3e230c3fd41",
   "metadata": {},
   "outputs": [
    {
     "name": "stdout",
     "output_type": "stream",
     "text": [
      "+----+---+\n",
      "| _c0|_c1|\n",
      "+----+---+\n",
      "|name|age|\n",
      "|   A| 30|\n",
      "|   B| 20|\n",
      "|   C| 40|\n",
      "+----+---+\n",
      "\n"
     ]
    }
   ],
   "source": [
    "df_pyspark.show()"
   ]
  },
  {
   "cell_type": "code",
   "execution_count": 17,
   "id": "575b47b7-5aaf-4eff-b4d3-81e56d8b7759",
   "metadata": {},
   "outputs": [],
   "source": [
    "df_pyspark1 = spark.read.option('header','true').csv('data.txt')"
   ]
  },
  {
   "cell_type": "code",
   "execution_count": 18,
   "id": "7f1c41bc-36f1-47c0-802a-32ccf2976d37",
   "metadata": {},
   "outputs": [
    {
     "data": {
      "text/plain": [
       "pyspark.sql.dataframe.DataFrame"
      ]
     },
     "execution_count": 18,
     "metadata": {},
     "output_type": "execute_result"
    }
   ],
   "source": [
    "type(df_pyspark1)"
   ]
  },
  {
   "cell_type": "code",
   "execution_count": 21,
   "id": "2c828b41-7a68-4b84-9b8f-b2fdc6b56970",
   "metadata": {},
   "outputs": [
    {
     "data": {
      "text/plain": [
       "[Row(name='A', age='30'), Row(name='B', age='20')]"
      ]
     },
     "execution_count": 21,
     "metadata": {},
     "output_type": "execute_result"
    }
   ],
   "source": [
    "df_pyspark1.head(2)"
   ]
  },
  {
   "cell_type": "code",
   "execution_count": 22,
   "id": "55998ec3-60d4-4ef8-aaae-2401b718e5aa",
   "metadata": {},
   "outputs": [],
   "source": [
    "df = df_pyspark1"
   ]
  },
  {
   "cell_type": "code",
   "execution_count": 23,
   "id": "aa02fe9b-7923-4e85-b5ac-dd9f39925207",
   "metadata": {},
   "outputs": [
    {
     "name": "stdout",
     "output_type": "stream",
     "text": [
      "root\n",
      " |-- name: string (nullable = true)\n",
      " |-- age: string (nullable = true)\n",
      "\n"
     ]
    }
   ],
   "source": [
    "df.printSchema()"
   ]
  },
  {
   "cell_type": "code",
   "execution_count": 24,
   "id": "819f9c09-4168-4cd0-926a-2f2d321340f2",
   "metadata": {},
   "outputs": [],
   "source": [
    "# read the dataset\n",
    "df = spark.read.option('header', 'true').csv('data.csv')"
   ]
  },
  {
   "cell_type": "code",
   "execution_count": 25,
   "id": "bcd0b658-87c5-4ad4-9336-fbe01bef0ffd",
   "metadata": {},
   "outputs": [
    {
     "name": "stdout",
     "output_type": "stream",
     "text": [
      "+----+---+---+\n",
      "|name|age|exp|\n",
      "+----+---+---+\n",
      "|   A| 30|  3|\n",
      "|   B| 20|  4|\n",
      "|   C| 40|  5|\n",
      "+----+---+---+\n",
      "\n"
     ]
    }
   ],
   "source": [
    "df.show()"
   ]
  },
  {
   "cell_type": "code",
   "execution_count": 26,
   "id": "1f85ff8b-0190-4901-8f62-faff01d91f5e",
   "metadata": {},
   "outputs": [
    {
     "name": "stdout",
     "output_type": "stream",
     "text": [
      "root\n",
      " |-- name: string (nullable = true)\n",
      " |-- age: string (nullable = true)\n",
      " |-- exp: string (nullable = true)\n",
      "\n"
     ]
    }
   ],
   "source": [
    "df.printSchema()"
   ]
  },
  {
   "cell_type": "code",
   "execution_count": 27,
   "id": "b71d35e6-53c3-4326-ad16-7b3d0f8a8395",
   "metadata": {},
   "outputs": [],
   "source": [
    "df = spark.read.option('header', 'true').csv('data.csv', inferSchema=True)"
   ]
  },
  {
   "cell_type": "code",
   "execution_count": 28,
   "id": "5e77753e-3f3b-4bf2-85a6-3295f26f50b3",
   "metadata": {},
   "outputs": [
    {
     "name": "stdout",
     "output_type": "stream",
     "text": [
      "+----+---+---+\n",
      "|name|age|exp|\n",
      "+----+---+---+\n",
      "|   A| 30|  3|\n",
      "|   B| 20|  4|\n",
      "|   C| 40|  5|\n",
      "+----+---+---+\n",
      "\n"
     ]
    }
   ],
   "source": [
    "df.show()"
   ]
  },
  {
   "cell_type": "code",
   "execution_count": 29,
   "id": "3471e8d2-0743-40e8-bb24-173e94b9dea7",
   "metadata": {},
   "outputs": [
    {
     "name": "stdout",
     "output_type": "stream",
     "text": [
      "root\n",
      " |-- name: string (nullable = true)\n",
      " |-- age: integer (nullable = true)\n",
      " |-- exp: integer (nullable = true)\n",
      "\n"
     ]
    }
   ],
   "source": [
    "df.printSchema()"
   ]
  },
  {
   "cell_type": "code",
   "execution_count": 32,
   "id": "59013a4c-ac3b-4bbb-ae45-b647cf85ab8f",
   "metadata": {},
   "outputs": [],
   "source": [
    "df = spark.read.csv('data.csv', header=True, inferSchema=True)"
   ]
  },
  {
   "cell_type": "code",
   "execution_count": 33,
   "id": "afe5004c-e844-41a9-b6f4-d4538cde86d9",
   "metadata": {},
   "outputs": [
    {
     "data": {
      "text/plain": [
       "pyspark.sql.dataframe.DataFrame"
      ]
     },
     "execution_count": 33,
     "metadata": {},
     "output_type": "execute_result"
    }
   ],
   "source": [
    "type(df)"
   ]
  },
  {
   "cell_type": "code",
   "execution_count": 34,
   "id": "70790407-0d50-4578-99e6-b308539be4ae",
   "metadata": {},
   "outputs": [
    {
     "data": {
      "text/plain": [
       "['name', 'age', 'exp']"
      ]
     },
     "execution_count": 34,
     "metadata": {},
     "output_type": "execute_result"
    }
   ],
   "source": [
    "df.columns"
   ]
  },
  {
   "cell_type": "code",
   "execution_count": 35,
   "id": "7ca2fec4-0749-4ba0-bf31-e904cd8e21f4",
   "metadata": {},
   "outputs": [
    {
     "data": {
      "text/plain": [
       "[Row(name='A', age=30, exp=3),\n",
       " Row(name='B', age=20, exp=4),\n",
       " Row(name='C', age=40, exp=5)]"
      ]
     },
     "execution_count": 35,
     "metadata": {},
     "output_type": "execute_result"
    }
   ],
   "source": [
    "df.head(3)"
   ]
  },
  {
   "cell_type": "code",
   "execution_count": 37,
   "id": "9add6ec7-9821-4a0d-af2e-1d40a8d7ced0",
   "metadata": {},
   "outputs": [],
   "source": [
    "n = df.select('name')"
   ]
  },
  {
   "cell_type": "code",
   "execution_count": 38,
   "id": "ec1c4c23-f125-4b44-9331-dbc8b3c8cb89",
   "metadata": {},
   "outputs": [
    {
     "data": {
      "text/plain": [
       "DataFrame[name: string]"
      ]
     },
     "execution_count": 38,
     "metadata": {},
     "output_type": "execute_result"
    }
   ],
   "source": [
    "n"
   ]
  },
  {
   "cell_type": "code",
   "execution_count": 39,
   "id": "3596cae2-c375-489c-bc12-db7ec6b95997",
   "metadata": {},
   "outputs": [
    {
     "name": "stdout",
     "output_type": "stream",
     "text": [
      "+----+\n",
      "|name|\n",
      "+----+\n",
      "|   A|\n",
      "|   B|\n",
      "|   C|\n",
      "+----+\n",
      "\n"
     ]
    }
   ],
   "source": [
    "n.show()"
   ]
  },
  {
   "cell_type": "code",
   "execution_count": 40,
   "id": "66ca0e7d-5646-4bc0-9f84-30d3b6a97082",
   "metadata": {},
   "outputs": [
    {
     "data": {
      "text/plain": [
       "pyspark.sql.dataframe.DataFrame"
      ]
     },
     "execution_count": 40,
     "metadata": {},
     "output_type": "execute_result"
    }
   ],
   "source": [
    "type(n)"
   ]
  },
  {
   "cell_type": "code",
   "execution_count": 41,
   "id": "a277c50d-f836-4cd6-a3ae-0a6230e88046",
   "metadata": {},
   "outputs": [
    {
     "name": "stdout",
     "output_type": "stream",
     "text": [
      "+----+---+\n",
      "|name|exp|\n",
      "+----+---+\n",
      "|   A|  3|\n",
      "|   B|  4|\n",
      "|   C|  5|\n",
      "+----+---+\n",
      "\n"
     ]
    }
   ],
   "source": [
    "df.select(['name', 'exp']).show()"
   ]
  },
  {
   "cell_type": "code",
   "execution_count": 43,
   "id": "0c932b5f-9543-4fc9-b326-3e8e7080a996",
   "metadata": {},
   "outputs": [
    {
     "data": {
      "text/plain": [
       "Column<'name'>"
      ]
     },
     "execution_count": 43,
     "metadata": {},
     "output_type": "execute_result"
    }
   ],
   "source": [
    "df['name']"
   ]
  },
  {
   "cell_type": "code",
   "execution_count": 45,
   "id": "37b4326b-350d-4c2d-a291-ec13c5ba5a52",
   "metadata": {},
   "outputs": [
    {
     "name": "stdout",
     "output_type": "stream",
     "text": [
      "+----+---+\n",
      "|name|age|\n",
      "+----+---+\n",
      "|   A| 30|\n",
      "|   C| 40|\n",
      "+----+---+\n",
      "\n"
     ]
    }
   ],
   "source": [
    "df.filter(\"age>20\").select(\"name\",\"age\").show()"
   ]
  },
  {
   "cell_type": "code",
   "execution_count": 47,
   "id": "70149d29-d947-4277-9880-8d3585351b9b",
   "metadata": {},
   "outputs": [
    {
     "name": "stdout",
     "output_type": "stream",
     "text": [
      "+----+---+---+\n",
      "|name|age|exp|\n",
      "+----+---+---+\n",
      "|   B| 20|  4|\n",
      "|   C| 40|  5|\n",
      "+----+---+---+\n",
      "\n"
     ]
    }
   ],
   "source": [
    "df.filter(df['exp'] >3 ).show()"
   ]
  },
  {
   "cell_type": "code",
   "execution_count": 49,
   "id": "e1c78055-8808-4584-ad94-da96daa4413a",
   "metadata": {},
   "outputs": [
    {
     "name": "stdout",
     "output_type": "stream",
     "text": [
      "+----+---+---+\n",
      "|name|age|exp|\n",
      "+----+---+---+\n",
      "|   B| 20|  4|\n",
      "+----+---+---+\n",
      "\n"
     ]
    }
   ],
   "source": [
    "df.filter((df['exp'] >3) & (df['age']< 35)).show()"
   ]
  },
  {
   "cell_type": "code",
   "execution_count": 50,
   "id": "3d047072-f661-4dda-afeb-29101cec33a8",
   "metadata": {},
   "outputs": [
    {
     "name": "stdout",
     "output_type": "stream",
     "text": [
      "+----+---+---+\n",
      "|name|age|exp|\n",
      "+----+---+---+\n",
      "|   A| 30|  3|\n",
      "|   B| 20|  4|\n",
      "|   C| 40|  5|\n",
      "+----+---+---+\n",
      "\n"
     ]
    }
   ],
   "source": [
    "df.filter((df['exp'] >3) | (df['age']< 35)).show()"
   ]
  },
  {
   "cell_type": "code",
   "execution_count": 51,
   "id": "f4b87cf3-cc91-4077-9284-37fa99a93f5b",
   "metadata": {},
   "outputs": [
    {
     "name": "stdout",
     "output_type": "stream",
     "text": [
      "+----+---+---+\n",
      "|name|age|exp|\n",
      "+----+---+---+\n",
      "|   A| 30|  3|\n",
      "+----+---+---+\n",
      "\n"
     ]
    }
   ],
   "source": [
    "df.filter(~(df['exp'] >3)).show()"
   ]
  },
  {
   "cell_type": "code",
   "execution_count": 53,
   "id": "9efa9f6c-0b0a-4cbd-a919-606a057d6bd0",
   "metadata": {},
   "outputs": [],
   "source": [
    "df = spark.read.csv('salaries.csv',header=True,inferSchema=True)"
   ]
  },
  {
   "cell_type": "code",
   "execution_count": 54,
   "id": "869db7e1-34cf-46ac-af67-76e231b9053c",
   "metadata": {},
   "outputs": [
    {
     "name": "stdout",
     "output_type": "stream",
     "text": [
      "+----+----+------+\n",
      "|name|dept|salary|\n",
      "+----+----+------+\n",
      "|   K|  DS| 10000|\n",
      "|   K| IOT|  5000|\n",
      "|   M|  BD|  4000|\n",
      "|   K|  BD|  4000|\n",
      "|   M|  DS|  3000|\n",
      "|   S|  DS| 20000|\n",
      "|   S| IOT| 10000|\n",
      "|   S|  BD|  5000|\n",
      "|  S1|  DS| 10000|\n",
      "|  S1|  BD|  2000|\n",
      "+----+----+------+\n",
      "\n"
     ]
    }
   ],
   "source": [
    "df.show()"
   ]
  },
  {
   "cell_type": "code",
   "execution_count": 55,
   "id": "4e24fd03-ef10-41fc-abd6-a7cb76feed4e",
   "metadata": {},
   "outputs": [
    {
     "name": "stdout",
     "output_type": "stream",
     "text": [
      "root\n",
      " |-- name: string (nullable = true)\n",
      " |-- dept: string (nullable = true)\n",
      " |-- salary: integer (nullable = true)\n",
      "\n"
     ]
    }
   ],
   "source": [
    "df.printSchema()"
   ]
  },
  {
   "cell_type": "code",
   "execution_count": 59,
   "id": "c2f3dfb4-3f46-4cef-b146-3693c145df09",
   "metadata": {},
   "outputs": [
    {
     "name": "stdout",
     "output_type": "stream",
     "text": [
      "+----+-----------+\n",
      "|name|sum(salary)|\n",
      "+----+-----------+\n",
      "|   K|      19000|\n",
      "|   M|       7000|\n",
      "|   S|      35000|\n",
      "|  S1|      12000|\n",
      "+----+-----------+\n",
      "\n"
     ]
    }
   ],
   "source": [
    "## groupby\n",
    "df.groupBy('name').sum().show()"
   ]
  },
  {
   "cell_type": "code",
   "execution_count": 61,
   "id": "a23133ef-a865-474d-ae33-e13c4ed00b05",
   "metadata": {},
   "outputs": [
    {
     "name": "stdout",
     "output_type": "stream",
     "text": [
      "+----+-----------+\n",
      "|dept|sum(salary)|\n",
      "+----+-----------+\n",
      "| IOT|      15000|\n",
      "|  BD|      15000|\n",
      "|  DS|      43000|\n",
      "+----+-----------+\n",
      "\n"
     ]
    }
   ],
   "source": [
    "# which dpt give highest salary\n",
    "df.groupBy('dept').sum().show()"
   ]
  },
  {
   "cell_type": "code",
   "execution_count": 62,
   "id": "7d2cdf97-75ae-4520-b27f-1d6ba440d150",
   "metadata": {},
   "outputs": [
    {
     "name": "stdout",
     "output_type": "stream",
     "text": [
      "+----+-----------+\n",
      "|dept|avg(salary)|\n",
      "+----+-----------+\n",
      "| IOT|     7500.0|\n",
      "|  BD|     3750.0|\n",
      "|  DS|    10750.0|\n",
      "+----+-----------+\n",
      "\n"
     ]
    }
   ],
   "source": [
    "df.groupBy('dept').mean().show()"
   ]
  },
  {
   "cell_type": "code",
   "execution_count": 63,
   "id": "ec7cc03a-0922-4a52-81c8-6f6811153c73",
   "metadata": {},
   "outputs": [
    {
     "name": "stdout",
     "output_type": "stream",
     "text": [
      "+----+-----+\n",
      "|dept|count|\n",
      "+----+-----+\n",
      "| IOT|    2|\n",
      "|  BD|    4|\n",
      "|  DS|    4|\n",
      "+----+-----+\n",
      "\n"
     ]
    }
   ],
   "source": [
    "df.groupBy('dept').count().show()"
   ]
  },
  {
   "cell_type": "code",
   "execution_count": 64,
   "id": "483e3b15-6f2c-430e-b465-a5a219d807fc",
   "metadata": {},
   "outputs": [
    {
     "name": "stdout",
     "output_type": "stream",
     "text": [
      "+-----------+\n",
      "|sum(salary)|\n",
      "+-----------+\n",
      "|      73000|\n",
      "+-----------+\n",
      "\n"
     ]
    }
   ],
   "source": [
    "df.agg({'salary':'sum'}).show()"
   ]
  },
  {
   "cell_type": "code",
   "execution_count": null,
   "id": "e830023c-02c6-42b7-92ce-2c2b8d4b5251",
   "metadata": {},
   "outputs": [],
   "source": []
  }
 ],
 "metadata": {
  "kernelspec": {
   "display_name": "Python 3 (ipykernel)",
   "language": "python",
   "name": "python3"
  },
  "language_info": {
   "codemirror_mode": {
    "name": "ipython",
    "version": 3
   },
   "file_extension": ".py",
   "mimetype": "text/x-python",
   "name": "python",
   "nbconvert_exporter": "python",
   "pygments_lexer": "ipython3",
   "version": "3.12.1"
  }
 },
 "nbformat": 4,
 "nbformat_minor": 5
}
